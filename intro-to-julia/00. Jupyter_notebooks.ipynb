{
 "cells": [
  {
   "cell_type": "markdown",
   "metadata": {},
   "source": [
    "## Getting started with Jupyter notebooks\n",
    "\n",
    "### Running a cell\n",
    "To execute code within a cell, select that cell and either (1) hit `Shift` and `Enter` or (2) hit the run button (the right pointing arrow) above."
   ]
  },
  {
   "cell_type": "code",
   "execution_count": 1,
   "metadata": {},
   "outputs": [
    {
     "data": {
      "text/plain": [
       "4"
      ]
     },
     "execution_count": 1,
     "metadata": {},
     "output_type": "execute_result"
    }
   ],
   "source": [
    "1 + 1\n",
    "2 + 2"
   ]
  },
  {
   "cell_type": "markdown",
   "metadata": {},
   "source": [
    "If you're new to jupyter notebooks, note that only the last line of a cell prints by default when you execute that cell and that you can suppress this output with a semicolon"
   ]
  },
  {
   "cell_type": "code",
   "execution_count": 2,
   "metadata": {},
   "outputs": [],
   "source": [
    "1 + 1\n",
    "2 + 2;"
   ]
  },
  {
   "cell_type": "markdown",
   "metadata": {},
   "source": [
    "### How to get docs for Julia functions\n",
    "\n",
    "To get docs for a function you're not familiar with, precede it with a question mark. (This works at the REPL too!)"
   ]
  },
  {
   "cell_type": "code",
   "execution_count": 3,
   "metadata": {},
   "outputs": [
    {
     "name": "stdout",
     "output_type": "stream",
     "text": [
      "search: \u001b[1mp\u001b[22m\u001b[1mr\u001b[22m\u001b[1mi\u001b[22m\u001b[1mn\u001b[22m\u001b[1mt\u001b[22m\u001b[1ml\u001b[22m\u001b[1mn\u001b[22m \u001b[1mp\u001b[22m\u001b[1mr\u001b[22m\u001b[1mi\u001b[22m\u001b[1mn\u001b[22m\u001b[1mt\u001b[22m_with_co\u001b[1ml\u001b[22mor \u001b[1mp\u001b[22m\u001b[1mr\u001b[22m\u001b[1mi\u001b[22m\u001b[1mn\u001b[22m\u001b[1mt\u001b[22m \u001b[1mp\u001b[22m\u001b[1mr\u001b[22m\u001b[1mi\u001b[22m\u001b[1mn\u001b[22m\u001b[1mt\u001b[22m_shortest s\u001b[1mp\u001b[22m\u001b[1mr\u001b[22m\u001b[1mi\u001b[22m\u001b[1mn\u001b[22m\u001b[1mt\u001b[22m @\u001b[1mp\u001b[22m\u001b[1mr\u001b[22m\u001b[1mi\u001b[22m\u001b[1mn\u001b[22m\u001b[1mt\u001b[22mf is\u001b[1mp\u001b[22m\u001b[1mr\u001b[22m\u001b[1mi\u001b[22m\u001b[1mn\u001b[22m\u001b[1mt\u001b[22m\n",
      "\n"
     ]
    },
    {
     "data": {
      "text/markdown": [
       "```\n",
       "println(io::IO, xs...)\n",
       "```\n",
       "\n",
       "Print (using [`print`](@ref)) `xs` followed by a newline. If `io` is not supplied, prints to [`STDOUT`](@ref).\n"
      ],
      "text/plain": [
       "```\n",
       "println(io::IO, xs...)\n",
       "```\n",
       "\n",
       "Print (using [`print`](@ref)) `xs` followed by a newline. If `io` is not supplied, prints to [`STDOUT`](@ref).\n"
      ]
     },
     "execution_count": 3,
     "metadata": {},
     "output_type": "execute_result"
    }
   ],
   "source": [
    "?println"
   ]
  },
  {
   "cell_type": "markdown",
   "metadata": {},
   "source": [
    "### How to use shell commands\n",
    "\n",
    "Type `;` and then you can use shell commands. For example,"
   ]
  },
  {
   "cell_type": "code",
   "execution_count": 4,
   "metadata": {},
   "outputs": [
    {
     "name": "stdout",
     "output_type": "stream",
     "text": [
      "00. Jupyter_notebooks.ipynb\n",
      "01. Getting started.ipynb\n",
      "02. Strings.ipynb\n",
      "03. Data structures.ipynb\n",
      "04. Loops.ipynb\n",
      "05. Conditionals.ipynb\n",
      "06. Functions.ipynb\n",
      "07. Packages.ipynb\n",
      "08. Plotting.ipynb\n",
      "09. Julia is fast.ipynb\n",
      "10. Multiple dispatch.ipynb\n",
      "11. Basic linear algebra.ipynb\n",
      "12. Factorizations and other fun.ipynb\n",
      "Exercise_solutions.ipynb\n",
      "create_a_caesar_cipher.ipynb\n",
      "create_a_caesar_cipher_solutions.ipynb\n",
      "short-version\n"
     ]
    }
   ],
   "source": [
    ";ls"
   ]
  },
  {
   "cell_type": "code",
   "execution_count": 5,
   "metadata": {},
   "outputs": [
    {
     "name": "stdout",
     "output_type": "stream",
     "text": [
      "/mnt/juliabox/tutorials/intro-to-julia\n"
     ]
    }
   ],
   "source": [
    ";pwd"
   ]
  },
  {
   "cell_type": "markdown",
   "metadata": {
    "collapsed": true
   },
   "source": [
    "Shell commands also work at the REPL!"
   ]
  },
  {
   "cell_type": "code",
   "execution_count": null,
   "metadata": {
    "collapsed": true
   },
   "outputs": [],
   "source": []
  }
 ],
 "metadata": {
  "kernelspec": {
   "display_name": "Julia 0.6.2",
   "language": "julia",
   "name": "julia-0.6"
  },
  "language_info": {
   "file_extension": ".jl",
   "mimetype": "application/julia",
   "name": "julia",
   "version": "0.6.2"
  }
 },
 "nbformat": 4,
 "nbformat_minor": 2
}
